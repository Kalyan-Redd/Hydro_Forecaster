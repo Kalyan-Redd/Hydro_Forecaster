{
 "cells": [
  {
   "cell_type": "code",
   "execution_count": 1,
   "id": "757cb98e",
   "metadata": {},
   "outputs": [],
   "source": [
    "import pandas as pd\n",
    "import numpy as np\n",
    "from sklearn.model_selection import train_test_split\n",
    "from sklearn.preprocessing import StandardScaler, LabelEncoder\n",
    "from sklearn.ensemble import RandomForestClassifier\n",
    "from sklearn.metrics import classification_report, confusion_matrix\n",
    "import joblib"
   ]
  },
  {
   "cell_type": "code",
   "execution_count": 2,
   "id": "8251badc",
   "metadata": {},
   "outputs": [],
   "source": [
    "df = pd.read_csv(\"Daily.csv\")"
   ]
  },
  {
   "cell_type": "code",
   "execution_count": 3,
   "id": "57fdb4c7",
   "metadata": {},
   "outputs": [],
   "source": [
    "X = df[[\"Rain (mm)\", \"Avg_Temp\", \"Avg_Humidity\"]]  # modify to your feature columns\n",
    "y = df[\"GW_Level_Legend\"]"
   ]
  },
  {
   "cell_type": "code",
   "execution_count": 4,
   "id": "acb087f8",
   "metadata": {},
   "outputs": [],
   "source": [
    "\n",
    "# 4. ENCODE TARGET LABELS IF NEEDED\n",
    "label_encoder = LabelEncoder()\n",
    "y_encoded = label_encoder.fit_transform(y)"
   ]
  },
  {
   "cell_type": "code",
   "execution_count": 5,
   "id": "e25b9cf8",
   "metadata": {},
   "outputs": [],
   "source": [
    "# 5. SPLIT INTO TRAIN/TEST\n",
    "X_train, X_test, y_train, y_test = train_test_split(X, y_encoded, test_size=0.2, random_state=42)\n",
    "\n"
   ]
  },
  {
   "cell_type": "code",
   "execution_count": 6,
   "id": "a8180bf7",
   "metadata": {},
   "outputs": [],
   "source": [
    "# 6. FEATURE SCALING\n",
    "scaler = StandardScaler()\n",
    "X_train_scaled = scaler.fit_transform(X_train)\n",
    "X_test_scaled = scaler.transform(X_test)\n",
    "\n"
   ]
  },
  {
   "cell_type": "code",
   "execution_count": 7,
   "id": "ad9978cc",
   "metadata": {},
   "outputs": [],
   "source": [
    "from sklearn.ensemble import GradientBoostingClassifier\n",
    "from sklearn.linear_model import LogisticRegression\n",
    "from sklearn.neighbors import KNeighborsClassifier\n",
    "from sklearn.svm import SVC\n",
    "from xgboost import XGBClassifier\n",
    "\n",
    "# Dictionary of models\n",
    "models = {\n",
    "    \"Random Forest\": RandomForestClassifier(n_estimators=100, random_state=42),\n",
    "    \"XGBoost\": XGBClassifier(use_label_encoder=False, eval_metric=\"mlogloss\"),\n",
    "    \"Gradient Boosting\": GradientBoostingClassifier(),\n",
    "    \"Logistic Regression\": LogisticRegression(max_iter=1000),\n",
    "    \"KNN (k=5)\": KNeighborsClassifier(n_neighbors=5)\n",
    "}\n"
   ]
  },
  {
   "cell_type": "code",
   "execution_count": 8,
   "id": "0002eec2",
   "metadata": {},
   "outputs": [
    {
     "name": "stdout",
     "output_type": "stream",
     "text": [
      "\n",
      "🔍 Model: Random Forest\n",
      "                                precision    recall  f1-score   support\n",
      "\n",
      "   Deep Water Level (20 to 40)       0.66      0.71      0.68     34390\n",
      "Moderate Water Level (5 to 10)       0.38      0.42      0.40     18517\n",
      "  Shallow Water Level (2 to 5)       0.22      0.15      0.18     14901\n",
      "   Very Deep Water Level (>40)       0.60      0.60      0.60     21235\n",
      "\n",
      "                      accuracy                           0.53     89043\n",
      "                     macro avg       0.47      0.47      0.47     89043\n",
      "                  weighted avg       0.52      0.53      0.52     89043\n",
      "\n",
      "\n",
      "🔍 Model: XGBoost\n"
     ]
    },
    {
     "name": "stderr",
     "output_type": "stream",
     "text": [
      "c:\\Users\\LENOVO\\anaconda3\\envs\\hydro_env\\Lib\\site-packages\\xgboost\\training.py:183: UserWarning: [23:06:54] WARNING: C:\\actions-runner\\_work\\xgboost\\xgboost\\src\\learner.cc:738: \n",
      "Parameters: { \"use_label_encoder\" } are not used.\n",
      "\n",
      "  bst.update(dtrain, iteration=i, fobj=obj)\n"
     ]
    },
    {
     "name": "stdout",
     "output_type": "stream",
     "text": [
      "                                precision    recall  f1-score   support\n",
      "\n",
      "   Deep Water Level (20 to 40)       0.70      0.79      0.74     34390\n",
      "Moderate Water Level (5 to 10)       0.41      0.60      0.49     18517\n",
      "  Shallow Water Level (2 to 5)       0.47      0.06      0.11     14901\n",
      "   Very Deep Water Level (>40)       0.69      0.70      0.69     21235\n",
      "\n",
      "                      accuracy                           0.61     89043\n",
      "                     macro avg       0.57      0.54      0.51     89043\n",
      "                  weighted avg       0.60      0.61      0.57     89043\n",
      "\n",
      "\n",
      "🔍 Model: Gradient Boosting\n",
      "                                precision    recall  f1-score   support\n",
      "\n",
      "   Deep Water Level (20 to 40)       0.70      0.79      0.74     34390\n",
      "Moderate Water Level (5 to 10)       0.42      0.61      0.49     18517\n",
      "  Shallow Water Level (2 to 5)       0.49      0.06      0.11     14901\n",
      "   Very Deep Water Level (>40)       0.69      0.70      0.69     21235\n",
      "\n",
      "                      accuracy                           0.61     89043\n",
      "                     macro avg       0.57      0.54      0.51     89043\n",
      "                  weighted avg       0.60      0.61      0.57     89043\n",
      "\n",
      "\n",
      "🔍 Model: Logistic Regression\n",
      "                                precision    recall  f1-score   support\n",
      "\n",
      "   Deep Water Level (20 to 40)       0.66      0.85      0.74     34390\n",
      "Moderate Water Level (5 to 10)       0.43      0.45      0.44     18517\n",
      "  Shallow Water Level (2 to 5)       0.40      0.04      0.06     14901\n",
      "   Very Deep Water Level (>40)       0.64      0.71      0.67     21235\n",
      "\n",
      "                      accuracy                           0.60     89043\n",
      "                     macro avg       0.53      0.51      0.48     89043\n",
      "                  weighted avg       0.56      0.60      0.55     89043\n",
      "\n",
      "\n",
      "🔍 Model: KNN (k=5)\n",
      "                                precision    recall  f1-score   support\n",
      "\n",
      "   Deep Water Level (20 to 40)       0.64      0.80      0.71     34390\n",
      "Moderate Water Level (5 to 10)       0.39      0.41      0.40     18517\n",
      "  Shallow Water Level (2 to 5)       0.24      0.11      0.15     14901\n",
      "   Very Deep Water Level (>40)       0.66      0.61      0.63     21235\n",
      "\n",
      "                      accuracy                           0.56     89043\n",
      "                     macro avg       0.48      0.48      0.47     89043\n",
      "                  weighted avg       0.53      0.56      0.53     89043\n",
      "\n"
     ]
    }
   ],
   "source": [
    "# Train and evaluate each model\n",
    "for name, model in models.items():\n",
    "    print(f\"\\n🔍 Model: {name}\")\n",
    "    model.fit(X_train_scaled, y_train)\n",
    "    y_pred = model.predict(X_test_scaled)\n",
    "    print(classification_report(y_test, y_pred, target_names=label_encoder.classes_))"
   ]
  },
  {
   "cell_type": "code",
   "execution_count": 10,
   "id": "4775f550",
   "metadata": {},
   "outputs": [],
   "source": [
    "# Set best_model manually after evaluation\n",
    "best_model = models[\"XGBoost\"]  # or whichever performed best\n"
   ]
  },
  {
   "cell_type": "code",
   "execution_count": 11,
   "id": "f57f6a28",
   "metadata": {},
   "outputs": [
    {
     "name": "stdout",
     "output_type": "stream",
     "text": [
      "✅ All model artifacts saved successfully.\n"
     ]
    }
   ],
   "source": [
    "import joblib\n",
    "\n",
    "# Save model and preprocessing tools\n",
    "joblib.dump(best_model, \"xgboost_model.pkl\")\n",
    "joblib.dump(label_encoder, \"label_encoder.pkl\")\n",
    "joblib.dump(scaler, \"scaler.pkl\")\n",
    "\n",
    "print(\"✅ All model artifacts saved successfully.\")\n"
   ]
  },
  {
   "cell_type": "code",
   "execution_count": null,
   "id": "9be1d391",
   "metadata": {},
   "outputs": [],
   "source": []
  }
 ],
 "metadata": {
  "kernelspec": {
   "display_name": "hydro_env",
   "language": "python",
   "name": "python3"
  },
  "language_info": {
   "codemirror_mode": {
    "name": "ipython",
    "version": 3
   },
   "file_extension": ".py",
   "mimetype": "text/x-python",
   "name": "python",
   "nbconvert_exporter": "python",
   "pygments_lexer": "ipython3",
   "version": "3.11.13"
  }
 },
 "nbformat": 4,
 "nbformat_minor": 5
}
